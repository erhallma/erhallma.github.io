{
  "metadata": {
    "kernelspec": {
      "name": "python",
      "display_name": "Python (Pyodide)",
      "language": "python"
    },
    "language_info": {
      "codemirror_mode": {
        "name": "python",
        "version": 3
      },
      "file_extension": ".py",
      "mimetype": "text/x-python",
      "name": "python",
      "nbconvert_exporter": "python",
      "pygments_lexer": "ipython3",
      "version": "3.8"
    }
  },
  "nbformat_minor": 4,
  "nbformat": 4,
  "cells": [
    {
      "cell_type": "markdown",
      "source": "# Truth Table Generator\n\nThis is a short introduction to truth tables.\n\n# Table of Contents\n1. [Basics](#Basics)<br>\n    1.1 [Unary operator NOT](#Unary-operator-NOT)<br>\n    2.1 [Binary operators](#Binary-operators)<br>\n2. [Equivalences](#Equivalences)",
      "metadata": {
        "tags": [],
        "editable": true,
        "slideshow": {
          "slide_type": ""
        }
      }
    },
    {
      "cell_type": "code",
      "source": "from itertools import product\nimport pandas as pd",
      "metadata": {
        "trusted": true
      },
      "outputs": [],
      "execution_count": 1
    },
    {
      "cell_type": "code",
      "source": "# A BoolFun takes a variable number of named arguments\n# and returns a boolean value.\n# Example: F = BoolFun('p^q', lambda **ps : ps['p'] and ps['q'])\n#          is a function satisfying F(q=True, p=True) = True.\nclass BoolFun:\n    def __init__(self, name, fun):\n        self.name = name\n        self.fun = fun\n\n    def __call__(self, **ps):\n        return self.fun(**ps)\n\n    def pname(self):\n        if len(self.name) == 1:\n            return self.name\n        else:\n            return '(' + self.name + ')'\n\n    def Not(self):\n        return BoolFun('~' + self.pname(), lambda **ps : not self(**ps))\n\n    def And(self, other):\n        new_name = self.pname() + '^' + other.pname()\n        return BoolFun(new_name, lambda **ps : self(**ps) and other(**ps))\n\n    def Or(self, other):\n        new_name = self.pname() + 'v' + other.pname()\n        return BoolFun(new_name, lambda **ps : self(**ps) or other(**ps))\n\n    def XOr(self, other):\n        new_name = self.pname() + '+' + other.pname()\n        return BoolFun(new_name, lambda **ps : self(**ps) != other(**ps))\n\n    def Implies(self, other):\n        new_name = self.pname() + '=>' + other.pname()\n        return BoolFun(new_name, lambda **ps : (not self(**ps)) or other(**ps))\n\n    def Iff(self, other):\n        new_name = self.pname() + '<=>' + other.pname()\n        return BoolFun(new_name, lambda **ps : self(**ps) == other(**ps))\n\n# Candidates for variable names\ndef IsLowerAlpha(c):\n    return len(c) == 1 and 'a' <= c and c <= 'z' and c != 'v'\n\n# For nicer formatting of table headers\ndef TeXify(string):\n    string = string.replace('<=>', '\\\\Leftrightarrow ')\n    string = string.replace('=>', '\\\\Rightarrow ')\n    string = string.replace('+', '\\\\oplus ')\n    string = string.replace('v', '\\\\vee ')\n    string = string.replace('^', '\\\\wedge ')\n    string = string.replace('~', '\\\\neg ')\n    return '$' + string + '$'\n\n# Makes the zero-input BoolFuns `True` and `False`,\n# and the single-input BoolFuns given by a single-letter variable.\n# Example: P = PrimitiveFun('p') is a function satisfying P(p=True) = True.\n#          The input argument must be named: P(True) will result in an error.\n# Any malformed input yields the zero-input BoolFun `False`.\ndef PrimitiveFun(char):\n    if char == 'T':\n        return BoolFun('T', lambda **ps : True)\n    elif IsLowerAlpha(char):\n        return BoolFun(char, lambda **ps : ps[char])\n    else:\n        return BoolFun('F', lambda **ps : False)\n        ",
      "metadata": {
        "trusted": true
      },
      "outputs": [],
      "execution_count": 2
    },
    {
      "cell_type": "code",
      "source": "# Creates a truth table from a variable number of BoolFuns.\ndef TruthTable(*boolfuns):\n    varnames = sorted(list(set([c for bf in boolfuns for c in bf.name if IsLowerAlpha(c)])))\n    A = []\n    for ps in product([True, False], repeat=len(varnames)):\n        kwargs = dict(zip(varnames, ps))\n        A.append(list(ps) + [bf(**kwargs) for bf in boolfuns])\n    column_names = varnames + [bf.name for bf in boolfuns]\n    D = pd.DataFrame(A, columns=[TeXify(c) for c in column_names])\n    D.replace({True: 'T', False: 'F'}, inplace=True)\n    return D",
      "metadata": {
        "trusted": true
      },
      "outputs": [],
      "execution_count": 3
    },
    {
      "cell_type": "markdown",
      "source": "## Basics\n\nHere we'll just define a few basic variable names: P, Q, R, and the truth-values T and F.",
      "metadata": {}
    },
    {
      "cell_type": "code",
      "source": "P = PrimitiveFun('p')\nQ = PrimitiveFun('q')\nR = PrimitiveFun('r')\nT = PrimitiveFun('T')\nF = PrimitiveFun('F')",
      "metadata": {
        "trusted": true
      },
      "outputs": [],
      "execution_count": 4
    },
    {
      "cell_type": "markdown",
      "source": "### Unary operator NOT",
      "metadata": {}
    },
    {
      "cell_type": "code",
      "source": "TruthTable(P.Not())",
      "metadata": {
        "trusted": true
      },
      "outputs": [
        {
          "execution_count": 5,
          "output_type": "execute_result",
          "data": {
            "text/plain": "  $p$ $\\neg p$\n0   T        F\n1   F        T",
            "text/html": "<div>\n<style scoped>\n    .dataframe tbody tr th:only-of-type {\n        vertical-align: middle;\n    }\n\n    .dataframe tbody tr th {\n        vertical-align: top;\n    }\n\n    .dataframe thead th {\n        text-align: right;\n    }\n</style>\n<table border=\"1\" class=\"dataframe\">\n  <thead>\n    <tr style=\"text-align: right;\">\n      <th></th>\n      <th>$p$</th>\n      <th>$\\neg p$</th>\n    </tr>\n  </thead>\n  <tbody>\n    <tr>\n      <th>0</th>\n      <td>T</td>\n      <td>F</td>\n    </tr>\n    <tr>\n      <th>1</th>\n      <td>F</td>\n      <td>T</td>\n    </tr>\n  </tbody>\n</table>\n</div>"
          },
          "metadata": {}
        }
      ],
      "execution_count": 5
    },
    {
      "cell_type": "markdown",
      "source": "### Binary operators",
      "metadata": {}
    },
    {
      "cell_type": "code",
      "source": "TruthTable(P.And(Q), P.Or(Q), P.XOr(Q), P.Implies(Q), P.Iff(Q))",
      "metadata": {
        "trusted": true
      },
      "outputs": [
        {
          "execution_count": 6,
          "output_type": "execute_result",
          "data": {
            "text/plain": "  $p$ $q$ $p\\wedge q$ $p\\vee q$ $p\\oplus q$ $p\\Rightarrow q$  \\\n0   T   T           T         T           F                T   \n1   T   F           F         T           T                F   \n2   F   T           F         T           T                T   \n3   F   F           F         F           F                T   \n\n  $p\\Leftrightarrow q$  \n0                    T  \n1                    F  \n2                    F  \n3                    T  ",
            "text/html": "<div>\n<style scoped>\n    .dataframe tbody tr th:only-of-type {\n        vertical-align: middle;\n    }\n\n    .dataframe tbody tr th {\n        vertical-align: top;\n    }\n\n    .dataframe thead th {\n        text-align: right;\n    }\n</style>\n<table border=\"1\" class=\"dataframe\">\n  <thead>\n    <tr style=\"text-align: right;\">\n      <th></th>\n      <th>$p$</th>\n      <th>$q$</th>\n      <th>$p\\wedge q$</th>\n      <th>$p\\vee q$</th>\n      <th>$p\\oplus q$</th>\n      <th>$p\\Rightarrow q$</th>\n      <th>$p\\Leftrightarrow q$</th>\n    </tr>\n  </thead>\n  <tbody>\n    <tr>\n      <th>0</th>\n      <td>T</td>\n      <td>T</td>\n      <td>T</td>\n      <td>T</td>\n      <td>F</td>\n      <td>T</td>\n      <td>T</td>\n    </tr>\n    <tr>\n      <th>1</th>\n      <td>T</td>\n      <td>F</td>\n      <td>F</td>\n      <td>T</td>\n      <td>T</td>\n      <td>F</td>\n      <td>F</td>\n    </tr>\n    <tr>\n      <th>2</th>\n      <td>F</td>\n      <td>T</td>\n      <td>F</td>\n      <td>T</td>\n      <td>T</td>\n      <td>T</td>\n      <td>F</td>\n    </tr>\n    <tr>\n      <th>3</th>\n      <td>F</td>\n      <td>F</td>\n      <td>F</td>\n      <td>F</td>\n      <td>F</td>\n      <td>T</td>\n      <td>T</td>\n    </tr>\n  </tbody>\n</table>\n</div>"
          },
          "metadata": {}
        }
      ],
      "execution_count": 6
    },
    {
      "cell_type": "markdown",
      "source": "## Equivalences",
      "metadata": {}
    },
    {
      "cell_type": "code",
      "source": "TruthTable(P.Not(), P.Not().Not())",
      "metadata": {
        "trusted": true
      },
      "outputs": [
        {
          "execution_count": 7,
          "output_type": "execute_result",
          "data": {
            "text/plain": "  $p$ $\\neg p$ $\\neg (\\neg p)$\n0   T        F               T\n1   F        T               F",
            "text/html": "<div>\n<style scoped>\n    .dataframe tbody tr th:only-of-type {\n        vertical-align: middle;\n    }\n\n    .dataframe tbody tr th {\n        vertical-align: top;\n    }\n\n    .dataframe thead th {\n        text-align: right;\n    }\n</style>\n<table border=\"1\" class=\"dataframe\">\n  <thead>\n    <tr style=\"text-align: right;\">\n      <th></th>\n      <th>$p$</th>\n      <th>$\\neg p$</th>\n      <th>$\\neg (\\neg p)$</th>\n    </tr>\n  </thead>\n  <tbody>\n    <tr>\n      <th>0</th>\n      <td>T</td>\n      <td>F</td>\n      <td>T</td>\n    </tr>\n    <tr>\n      <th>1</th>\n      <td>F</td>\n      <td>T</td>\n      <td>F</td>\n    </tr>\n  </tbody>\n</table>\n</div>"
          },
          "metadata": {}
        }
      ],
      "execution_count": 7
    },
    {
      "cell_type": "code",
      "source": "TruthTable(P.XOr(P))",
      "metadata": {
        "trusted": true
      },
      "outputs": [
        {
          "execution_count": 8,
          "output_type": "execute_result",
          "data": {
            "text/plain": "  $p$ $p\\oplus p$\n0   T           F\n1   F           F",
            "text/html": "<div>\n<style scoped>\n    .dataframe tbody tr th:only-of-type {\n        vertical-align: middle;\n    }\n\n    .dataframe tbody tr th {\n        vertical-align: top;\n    }\n\n    .dataframe thead th {\n        text-align: right;\n    }\n</style>\n<table border=\"1\" class=\"dataframe\">\n  <thead>\n    <tr style=\"text-align: right;\">\n      <th></th>\n      <th>$p$</th>\n      <th>$p\\oplus p$</th>\n    </tr>\n  </thead>\n  <tbody>\n    <tr>\n      <th>0</th>\n      <td>T</td>\n      <td>F</td>\n    </tr>\n    <tr>\n      <th>1</th>\n      <td>F</td>\n      <td>F</td>\n    </tr>\n  </tbody>\n</table>\n</div>"
          },
          "metadata": {}
        }
      ],
      "execution_count": 8
    },
    {
      "cell_type": "markdown",
      "source": "### DeMorgan's Laws",
      "metadata": {}
    },
    {
      "cell_type": "code",
      "source": "TruthTable(P.And(Q).Not(), P.Not().Or(Q.Not()), P.Or(Q).Not(), P.Not().And(Q.Not()))",
      "metadata": {
        "trusted": true
      },
      "outputs": [
        {
          "execution_count": 9,
          "output_type": "execute_result",
          "data": {
            "text/plain": "  $p$ $q$ $\\neg (p\\wedge q)$ $(\\neg p)\\vee (\\neg q)$ $\\neg (p\\vee q)$  \\\n0   T   T                  F                       F                F   \n1   T   F                  T                       T                F   \n2   F   T                  T                       T                F   \n3   F   F                  T                       T                T   \n\n  $(\\neg p)\\wedge (\\neg q)$  \n0                         F  \n1                         F  \n2                         F  \n3                         T  ",
            "text/html": "<div>\n<style scoped>\n    .dataframe tbody tr th:only-of-type {\n        vertical-align: middle;\n    }\n\n    .dataframe tbody tr th {\n        vertical-align: top;\n    }\n\n    .dataframe thead th {\n        text-align: right;\n    }\n</style>\n<table border=\"1\" class=\"dataframe\">\n  <thead>\n    <tr style=\"text-align: right;\">\n      <th></th>\n      <th>$p$</th>\n      <th>$q$</th>\n      <th>$\\neg (p\\wedge q)$</th>\n      <th>$(\\neg p)\\vee (\\neg q)$</th>\n      <th>$\\neg (p\\vee q)$</th>\n      <th>$(\\neg p)\\wedge (\\neg q)$</th>\n    </tr>\n  </thead>\n  <tbody>\n    <tr>\n      <th>0</th>\n      <td>T</td>\n      <td>T</td>\n      <td>F</td>\n      <td>F</td>\n      <td>F</td>\n      <td>F</td>\n    </tr>\n    <tr>\n      <th>1</th>\n      <td>T</td>\n      <td>F</td>\n      <td>T</td>\n      <td>T</td>\n      <td>F</td>\n      <td>F</td>\n    </tr>\n    <tr>\n      <th>2</th>\n      <td>F</td>\n      <td>T</td>\n      <td>T</td>\n      <td>T</td>\n      <td>F</td>\n      <td>F</td>\n    </tr>\n    <tr>\n      <th>3</th>\n      <td>F</td>\n      <td>F</td>\n      <td>T</td>\n      <td>T</td>\n      <td>T</td>\n      <td>T</td>\n    </tr>\n  </tbody>\n</table>\n</div>"
          },
          "metadata": {}
        }
      ],
      "execution_count": 9
    },
    {
      "cell_type": "markdown",
      "source": "### Implication",
      "metadata": {}
    },
    {
      "cell_type": "code",
      "source": "TruthTable(P.Implies(Q), P.Not().Or(Q), P.And(Q.Not()).Not())",
      "metadata": {
        "trusted": true
      },
      "outputs": [
        {
          "execution_count": 10,
          "output_type": "execute_result",
          "data": {
            "text/plain": "  $p$ $q$ $p\\Rightarrow q$ $(\\neg p)\\vee q$ $\\neg (p\\wedge (\\neg q))$\n0   T   T                T                T                         T\n1   T   F                F                F                         F\n2   F   T                T                T                         T\n3   F   F                T                T                         T",
            "text/html": "<div>\n<style scoped>\n    .dataframe tbody tr th:only-of-type {\n        vertical-align: middle;\n    }\n\n    .dataframe tbody tr th {\n        vertical-align: top;\n    }\n\n    .dataframe thead th {\n        text-align: right;\n    }\n</style>\n<table border=\"1\" class=\"dataframe\">\n  <thead>\n    <tr style=\"text-align: right;\">\n      <th></th>\n      <th>$p$</th>\n      <th>$q$</th>\n      <th>$p\\Rightarrow q$</th>\n      <th>$(\\neg p)\\vee q$</th>\n      <th>$\\neg (p\\wedge (\\neg q))$</th>\n    </tr>\n  </thead>\n  <tbody>\n    <tr>\n      <th>0</th>\n      <td>T</td>\n      <td>T</td>\n      <td>T</td>\n      <td>T</td>\n      <td>T</td>\n    </tr>\n    <tr>\n      <th>1</th>\n      <td>T</td>\n      <td>F</td>\n      <td>F</td>\n      <td>F</td>\n      <td>F</td>\n    </tr>\n    <tr>\n      <th>2</th>\n      <td>F</td>\n      <td>T</td>\n      <td>T</td>\n      <td>T</td>\n      <td>T</td>\n    </tr>\n    <tr>\n      <th>3</th>\n      <td>F</td>\n      <td>F</td>\n      <td>T</td>\n      <td>T</td>\n      <td>T</td>\n    </tr>\n  </tbody>\n</table>\n</div>"
          },
          "metadata": {}
        }
      ],
      "execution_count": 10
    },
    {
      "cell_type": "code",
      "source": "TruthTable(P.Iff(Q), P.Implies(Q).And(Q.Implies(P)))",
      "metadata": {
        "trusted": true
      },
      "outputs": [
        {
          "execution_count": 11,
          "output_type": "execute_result",
          "data": {
            "text/plain": "  $p$ $q$ $p\\Leftrightarrow q$ $(p\\Rightarrow q)\\wedge (q\\Rightarrow p)$\n0   T   T                    T                                         T\n1   T   F                    F                                         F\n2   F   T                    F                                         F\n3   F   F                    T                                         T",
            "text/html": "<div>\n<style scoped>\n    .dataframe tbody tr th:only-of-type {\n        vertical-align: middle;\n    }\n\n    .dataframe tbody tr th {\n        vertical-align: top;\n    }\n\n    .dataframe thead th {\n        text-align: right;\n    }\n</style>\n<table border=\"1\" class=\"dataframe\">\n  <thead>\n    <tr style=\"text-align: right;\">\n      <th></th>\n      <th>$p$</th>\n      <th>$q$</th>\n      <th>$p\\Leftrightarrow q$</th>\n      <th>$(p\\Rightarrow q)\\wedge (q\\Rightarrow p)$</th>\n    </tr>\n  </thead>\n  <tbody>\n    <tr>\n      <th>0</th>\n      <td>T</td>\n      <td>T</td>\n      <td>T</td>\n      <td>T</td>\n    </tr>\n    <tr>\n      <th>1</th>\n      <td>T</td>\n      <td>F</td>\n      <td>F</td>\n      <td>F</td>\n    </tr>\n    <tr>\n      <th>2</th>\n      <td>F</td>\n      <td>T</td>\n      <td>F</td>\n      <td>F</td>\n    </tr>\n    <tr>\n      <th>3</th>\n      <td>F</td>\n      <td>F</td>\n      <td>T</td>\n      <td>T</td>\n    </tr>\n  </tbody>\n</table>\n</div>"
          },
          "metadata": {}
        }
      ],
      "execution_count": 11
    },
    {
      "cell_type": "markdown",
      "source": "### Associativity",
      "metadata": {}
    },
    {
      "cell_type": "code",
      "source": "TruthTable(P.And(Q.And(R)), P.And(Q).And(R), P.Or(Q.Or(R)), P.Or(Q).Or(R))",
      "metadata": {
        "trusted": true
      },
      "outputs": [
        {
          "execution_count": 12,
          "output_type": "execute_result",
          "data": {
            "text/plain": "  $p$ $q$ $r$ $p\\wedge (q\\wedge r)$ $(p\\wedge q)\\wedge r$ $p\\vee (q\\vee r)$  \\\n0   T   T   T                     T                     T                 T   \n1   T   T   F                     F                     F                 T   \n2   T   F   T                     F                     F                 T   \n3   T   F   F                     F                     F                 T   \n4   F   T   T                     F                     F                 T   \n5   F   T   F                     F                     F                 T   \n6   F   F   T                     F                     F                 T   \n7   F   F   F                     F                     F                 F   \n\n  $(p\\vee q)\\vee r$  \n0                 T  \n1                 T  \n2                 T  \n3                 T  \n4                 T  \n5                 T  \n6                 T  \n7                 F  ",
            "text/html": "<div>\n<style scoped>\n    .dataframe tbody tr th:only-of-type {\n        vertical-align: middle;\n    }\n\n    .dataframe tbody tr th {\n        vertical-align: top;\n    }\n\n    .dataframe thead th {\n        text-align: right;\n    }\n</style>\n<table border=\"1\" class=\"dataframe\">\n  <thead>\n    <tr style=\"text-align: right;\">\n      <th></th>\n      <th>$p$</th>\n      <th>$q$</th>\n      <th>$r$</th>\n      <th>$p\\wedge (q\\wedge r)$</th>\n      <th>$(p\\wedge q)\\wedge r$</th>\n      <th>$p\\vee (q\\vee r)$</th>\n      <th>$(p\\vee q)\\vee r$</th>\n    </tr>\n  </thead>\n  <tbody>\n    <tr>\n      <th>0</th>\n      <td>T</td>\n      <td>T</td>\n      <td>T</td>\n      <td>T</td>\n      <td>T</td>\n      <td>T</td>\n      <td>T</td>\n    </tr>\n    <tr>\n      <th>1</th>\n      <td>T</td>\n      <td>T</td>\n      <td>F</td>\n      <td>F</td>\n      <td>F</td>\n      <td>T</td>\n      <td>T</td>\n    </tr>\n    <tr>\n      <th>2</th>\n      <td>T</td>\n      <td>F</td>\n      <td>T</td>\n      <td>F</td>\n      <td>F</td>\n      <td>T</td>\n      <td>T</td>\n    </tr>\n    <tr>\n      <th>3</th>\n      <td>T</td>\n      <td>F</td>\n      <td>F</td>\n      <td>F</td>\n      <td>F</td>\n      <td>T</td>\n      <td>T</td>\n    </tr>\n    <tr>\n      <th>4</th>\n      <td>F</td>\n      <td>T</td>\n      <td>T</td>\n      <td>F</td>\n      <td>F</td>\n      <td>T</td>\n      <td>T</td>\n    </tr>\n    <tr>\n      <th>5</th>\n      <td>F</td>\n      <td>T</td>\n      <td>F</td>\n      <td>F</td>\n      <td>F</td>\n      <td>T</td>\n      <td>T</td>\n    </tr>\n    <tr>\n      <th>6</th>\n      <td>F</td>\n      <td>F</td>\n      <td>T</td>\n      <td>F</td>\n      <td>F</td>\n      <td>T</td>\n      <td>T</td>\n    </tr>\n    <tr>\n      <th>7</th>\n      <td>F</td>\n      <td>F</td>\n      <td>F</td>\n      <td>F</td>\n      <td>F</td>\n      <td>F</td>\n      <td>F</td>\n    </tr>\n  </tbody>\n</table>\n</div>"
          },
          "metadata": {}
        }
      ],
      "execution_count": 12
    },
    {
      "cell_type": "code",
      "source": "TruthTable(P.Implies(Q.Implies(R)), P.Implies(Q).Implies(R))",
      "metadata": {
        "trusted": true
      },
      "outputs": [
        {
          "execution_count": 13,
          "output_type": "execute_result",
          "data": {
            "text/plain": "  $p$ $q$ $r$ $p\\Rightarrow (q\\Rightarrow r)$ $(p\\Rightarrow q)\\Rightarrow r$\n0   T   T   T                               T                               T\n1   T   T   F                               F                               F\n2   T   F   T                               T                               T\n3   T   F   F                               T                               T\n4   F   T   T                               T                               T\n5   F   T   F                               T                               F\n6   F   F   T                               T                               T\n7   F   F   F                               T                               F",
            "text/html": "<div>\n<style scoped>\n    .dataframe tbody tr th:only-of-type {\n        vertical-align: middle;\n    }\n\n    .dataframe tbody tr th {\n        vertical-align: top;\n    }\n\n    .dataframe thead th {\n        text-align: right;\n    }\n</style>\n<table border=\"1\" class=\"dataframe\">\n  <thead>\n    <tr style=\"text-align: right;\">\n      <th></th>\n      <th>$p$</th>\n      <th>$q$</th>\n      <th>$r$</th>\n      <th>$p\\Rightarrow (q\\Rightarrow r)$</th>\n      <th>$(p\\Rightarrow q)\\Rightarrow r$</th>\n    </tr>\n  </thead>\n  <tbody>\n    <tr>\n      <th>0</th>\n      <td>T</td>\n      <td>T</td>\n      <td>T</td>\n      <td>T</td>\n      <td>T</td>\n    </tr>\n    <tr>\n      <th>1</th>\n      <td>T</td>\n      <td>T</td>\n      <td>F</td>\n      <td>F</td>\n      <td>F</td>\n    </tr>\n    <tr>\n      <th>2</th>\n      <td>T</td>\n      <td>F</td>\n      <td>T</td>\n      <td>T</td>\n      <td>T</td>\n    </tr>\n    <tr>\n      <th>3</th>\n      <td>T</td>\n      <td>F</td>\n      <td>F</td>\n      <td>T</td>\n      <td>T</td>\n    </tr>\n    <tr>\n      <th>4</th>\n      <td>F</td>\n      <td>T</td>\n      <td>T</td>\n      <td>T</td>\n      <td>T</td>\n    </tr>\n    <tr>\n      <th>5</th>\n      <td>F</td>\n      <td>T</td>\n      <td>F</td>\n      <td>T</td>\n      <td>F</td>\n    </tr>\n    <tr>\n      <th>6</th>\n      <td>F</td>\n      <td>F</td>\n      <td>T</td>\n      <td>T</td>\n      <td>T</td>\n    </tr>\n    <tr>\n      <th>7</th>\n      <td>F</td>\n      <td>F</td>\n      <td>F</td>\n      <td>T</td>\n      <td>F</td>\n    </tr>\n  </tbody>\n</table>\n</div>"
          },
          "metadata": {}
        }
      ],
      "execution_count": 13
    },
    {
      "cell_type": "markdown",
      "source": "## Reductions",
      "metadata": {}
    },
    {
      "cell_type": "code",
      "source": "TruthTable(P.Not(), P.And(T), P.And(F), P.Or(T), P.Or(F), P.XOr(T), P.XOr(F))",
      "metadata": {
        "trusted": true
      },
      "outputs": [
        {
          "execution_count": 14,
          "output_type": "execute_result",
          "data": {
            "text/plain": "  $p$ $\\neg p$ $p\\wedge T$ $p\\wedge F$ $p\\vee T$ $p\\vee F$ $p\\oplus T$  \\\n0   T        F           T           F         T         T           F   \n1   F        T           F           F         T         F           T   \n\n  $p\\oplus F$  \n0           T  \n1           F  ",
            "text/html": "<div>\n<style scoped>\n    .dataframe tbody tr th:only-of-type {\n        vertical-align: middle;\n    }\n\n    .dataframe tbody tr th {\n        vertical-align: top;\n    }\n\n    .dataframe thead th {\n        text-align: right;\n    }\n</style>\n<table border=\"1\" class=\"dataframe\">\n  <thead>\n    <tr style=\"text-align: right;\">\n      <th></th>\n      <th>$p$</th>\n      <th>$\\neg p$</th>\n      <th>$p\\wedge T$</th>\n      <th>$p\\wedge F$</th>\n      <th>$p\\vee T$</th>\n      <th>$p\\vee F$</th>\n      <th>$p\\oplus T$</th>\n      <th>$p\\oplus F$</th>\n    </tr>\n  </thead>\n  <tbody>\n    <tr>\n      <th>0</th>\n      <td>T</td>\n      <td>F</td>\n      <td>T</td>\n      <td>F</td>\n      <td>T</td>\n      <td>T</td>\n      <td>F</td>\n      <td>T</td>\n    </tr>\n    <tr>\n      <th>1</th>\n      <td>F</td>\n      <td>T</td>\n      <td>F</td>\n      <td>F</td>\n      <td>T</td>\n      <td>F</td>\n      <td>T</td>\n      <td>F</td>\n    </tr>\n  </tbody>\n</table>\n</div>"
          },
          "metadata": {}
        }
      ],
      "execution_count": 14
    },
    {
      "cell_type": "code",
      "source": "TruthTable(P.Not(), P.Implies(T), P.Implies(F), T.Implies(P), F.Implies(P))",
      "metadata": {
        "trusted": true
      },
      "outputs": [
        {
          "execution_count": 15,
          "output_type": "execute_result",
          "data": {
            "text/plain": "  $p$ $\\neg p$ $p\\Rightarrow T$ $p\\Rightarrow F$ $T\\Rightarrow p$  \\\n0   T        F                T                F                T   \n1   F        T                T                T                F   \n\n  $F\\Rightarrow p$  \n0                T  \n1                T  ",
            "text/html": "<div>\n<style scoped>\n    .dataframe tbody tr th:only-of-type {\n        vertical-align: middle;\n    }\n\n    .dataframe tbody tr th {\n        vertical-align: top;\n    }\n\n    .dataframe thead th {\n        text-align: right;\n    }\n</style>\n<table border=\"1\" class=\"dataframe\">\n  <thead>\n    <tr style=\"text-align: right;\">\n      <th></th>\n      <th>$p$</th>\n      <th>$\\neg p$</th>\n      <th>$p\\Rightarrow T$</th>\n      <th>$p\\Rightarrow F$</th>\n      <th>$T\\Rightarrow p$</th>\n      <th>$F\\Rightarrow p$</th>\n    </tr>\n  </thead>\n  <tbody>\n    <tr>\n      <th>0</th>\n      <td>T</td>\n      <td>F</td>\n      <td>T</td>\n      <td>F</td>\n      <td>T</td>\n      <td>T</td>\n    </tr>\n    <tr>\n      <th>1</th>\n      <td>F</td>\n      <td>T</td>\n      <td>T</td>\n      <td>T</td>\n      <td>F</td>\n      <td>T</td>\n    </tr>\n  </tbody>\n</table>\n</div>"
          },
          "metadata": {}
        }
      ],
      "execution_count": 15
    }
  ]
}