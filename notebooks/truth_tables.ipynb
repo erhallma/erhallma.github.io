{
  "metadata": {
    "kernelspec": {
      "name": "python",
      "display_name": "Python (Pyodide)",
      "language": "python"
    },
    "language_info": {
      "codemirror_mode": {
        "name": "python",
        "version": 3
      },
      "file_extension": ".py",
      "mimetype": "text/x-python",
      "name": "python",
      "nbconvert_exporter": "python",
      "pygments_lexer": "ipython3",
      "version": "3.8"
    }
  },
  "nbformat_minor": 4,
  "nbformat": 4,
  "cells": [
    {
      "cell_type": "markdown",
      "source": "# Truth Table Generator\n\nThis is a short introduction to truth tables.\n\n# Table of Contents\n1. [Basics](#Basics)<br>\n    1.1 [Unary operator NOT](#Unary-operator-NOT)<br>\n    2.1 [Binary operators](#Binary-operators)<br>\n2. [Equivalences](#Equivalences)",
      "metadata": {
        "tags": [],
        "editable": true,
        "slideshow": {
          "slide_type": ""
        }
      }
    },
    {
      "cell_type": "code",
      "source": "from itertools import product\nimport pandas as pd",
      "metadata": {
        "trusted": true
      },
      "outputs": [],
      "execution_count": 1
    },
    {
      "cell_type": "code",
      "source": "# A BoolFun takes a variable number of named arguments\n# and returns a boolean value.\n# Example: F = BoolFun('p^q', lambda **ps : ps['p'] and ps['q'])\n#          is a function satisfying F(q=True, p=True) = True.\nclass BoolFun:\n    def __init__(self, name, fun):\n        self.name = name\n        self.fun = fun\n\n    def __call__(self, **ps):\n        return self.fun(**ps)\n\n    def pname(self):\n        if len(self.name) == 1:\n            return self.name\n        else:\n            return '(' + self.name + ')'\n\n    def Not(self):\n        return BoolFun('~' + self.pname(), lambda **ps : not self(**ps))\n\n    def And(self, other):\n        new_name = self.pname() + '^' + other.pname()\n        return BoolFun(new_name, lambda **ps : self(**ps) and other(**ps))\n\n    def Or(self, other):\n        new_name = self.pname() + 'v' + other.pname()\n        return BoolFun(new_name, lambda **ps : self(**ps) or other(**ps))\n\n    def XOr(self, other):\n        new_name = self.pname() + '+' + other.pname()\n        return BoolFun(new_name, lambda **ps : self(**ps) != other(**ps))\n\n    def Implies(self, other):\n        new_name = self.pname() + '=>' + other.pname()\n        return BoolFun(new_name, lambda **ps : (not self(**ps)) or other(**ps))\n\n    def Iff(self, other):\n        new_name = self.pname() + '<=>' + other.pname()\n        return BoolFun(new_name, lambda **ps : self(**ps) == other(**ps))\n\n# Candidates for variable names\ndef IsLowerAlpha(c):\n    return len(c) == 1 and 'a' <= c and c <= 'z' and c != 'v'\n\n# For nicer formatting of table headers\ndef TeXify(string):\n    string = string.replace('<=>', '\\\\Leftrightarrow ')\n    string = string.replace('=>', '\\\\Rightarrow ')\n    string = string.replace('+', '\\\\oplus ')\n    string = string.replace('v', '\\\\vee ')\n    string = string.replace('^', '\\\\wedge ')\n    string = string.replace('~', '\\\\neg ')\n    return '$' + string + '$'\n\n# Makes the zero-input BoolFuns `True` and `False`,\n# and the single-input BoolFuns given by a single-letter variable.\n# Example: P = PrimitiveFun('p') is a function satisfying P(p=True) = True.\n#          The input argument must be named: P(True) will result in an error.\n# Any malformed input yields the zero-input BoolFun `False`.\ndef PrimitiveFun(char):\n    if char == 'T':\n        return BoolFun('T', lambda **ps : True)\n    elif IsLowerAlpha(char):\n        return BoolFun(char, lambda **ps : ps[char])\n    else:\n        return BoolFun('F', lambda **ps : False)\n        ",
      "metadata": {
        "trusted": true
      },
      "outputs": [],
      "execution_count": 2
    },
    {
      "cell_type": "code",
      "source": "# Creates a truth table from a variable number of BoolFuns.\ndef TruthTable(*boolfuns):\n    varnames = sorted(list(set([c for bf in boolfuns for c in bf.name if IsLowerAlpha(c)])))\n    A = []\n    for ps in product([True, False], repeat=len(varnames)):\n        kwargs = dict(zip(varnames, ps))\n        A.append(list(ps) + [bf(**kwargs) for bf in boolfuns])\n    column_names = varnames + [bf.name for bf in boolfuns]\n    D = pd.DataFrame(A, columns=[TeXify(c) for c in column_names])\n    D.replace({True: 'T', False: 'F'}, inplace=True)\n    return D",
      "metadata": {
        "trusted": true
      },
      "outputs": [],
      "execution_count": 3
    },
    {
      "cell_type": "markdown",
      "source": "## Basics\n\nHere we'll just define a few basic variable names: P, Q, R, and the truth-values T and F.",
      "metadata": {}
    },
    {
      "cell_type": "code",
      "source": "P = PrimitiveFun('p')\nQ = PrimitiveFun('q')\nR = PrimitiveFun('r')\nT = PrimitiveFun('T')\nF = PrimitiveFun('F')",
      "metadata": {
        "trusted": true
      },
      "outputs": [],
      "execution_count": 4
    },
    {
      "cell_type": "markdown",
      "source": "### Unary operator NOT",
      "metadata": {}
    },
    {
      "cell_type": "code",
      "source": "TruthTable(P.Not())",
      "metadata": {
        "trusted": true
      },
      "outputs": [],
      "execution_count": null
    },
    {
      "cell_type": "markdown",
      "source": "### Binary operators",
      "metadata": {}
    },
    {
      "cell_type": "code",
      "source": "TruthTable(P.And(Q), P.Or(Q), P.XOr(Q), P.Implies(Q), P.Iff(Q))",
      "metadata": {
        "trusted": true
      },
      "outputs": [],
      "execution_count": null
    },
    {
      "cell_type": "markdown",
      "source": "## Equivalences",
      "metadata": {}
    },
    {
      "cell_type": "code",
      "source": "TruthTable(P.Not(), P.Not().Not())",
      "metadata": {
        "trusted": true
      },
      "outputs": [],
      "execution_count": null
    },
    {
      "cell_type": "code",
      "source": "TruthTable(P.XOr(P))",
      "metadata": {
        "trusted": true
      },
      "outputs": [],
      "execution_count": null
    },
    {
      "cell_type": "markdown",
      "source": "### DeMorgan's Laws",
      "metadata": {}
    },
    {
      "cell_type": "code",
      "source": "TruthTable(P.And(Q).Not(), P.Not().Or(Q.Not()), P.Or(Q).Not(), P.Not().And(Q.Not()))",
      "metadata": {
        "trusted": true
      },
      "outputs": [],
      "execution_count": null
    },
    {
      "cell_type": "markdown",
      "source": "### Implication",
      "metadata": {}
    },
    {
      "cell_type": "code",
      "source": "TruthTable(P.Implies(Q), P.Not().Or(Q), P.And(Q.Not()).Not())",
      "metadata": {
        "trusted": true
      },
      "outputs": [],
      "execution_count": null
    },
    {
      "cell_type": "code",
      "source": "TruthTable(P.Iff(Q), P.Implies(Q).And(Q.Implies(P)))",
      "metadata": {
        "trusted": true
      },
      "outputs": [],
      "execution_count": null
    },
    {
      "cell_type": "markdown",
      "source": "### Associativity",
      "metadata": {}
    },
    {
      "cell_type": "code",
      "source": "TruthTable(P.And(Q.And(R)), P.And(Q).And(R), P.Or(Q.Or(R)), P.Or(Q).Or(R))",
      "metadata": {
        "trusted": true
      },
      "outputs": [],
      "execution_count": null
    },
    {
      "cell_type": "code",
      "source": "TruthTable(P.Implies(Q.Implies(R)), P.Implies(Q).Implies(R))",
      "metadata": {
        "trusted": true
      },
      "outputs": [],
      "execution_count": null
    },
    {
      "cell_type": "markdown",
      "source": "## Reductions",
      "metadata": {}
    },
    {
      "cell_type": "code",
      "source": "TruthTable(P.Not(), P.And(T), P.And(F), P.Or(T), P.Or(F), P.XOr(T), P.XOr(F))",
      "metadata": {
        "trusted": true
      },
      "outputs": [],
      "execution_count": null
    },
    {
      "cell_type": "code",
      "source": "TruthTable(P.Not(), P.Implies(T), P.Implies(F), T.Implies(P), F.Implies(P))",
      "metadata": {
        "trusted": true
      },
      "outputs": [],
      "execution_count": null
    }
  ]
}